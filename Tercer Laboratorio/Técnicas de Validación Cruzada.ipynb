{
 "cells": [
  {
   "cell_type": "code",
   "execution_count": 1,
   "id": "9b8fe7bf-3707-4978-a486-a961280436b8",
   "metadata": {},
   "outputs": [],
   "source": [
    "# Importación de librerías necesarias\n",
    "import numpy as np\n",
    "import pandas as pd\n",
    "from sklearn.model_selection import train_test_split\n",
    "from sklearn.ensemble import RandomForestClassifier\n",
    "from sklearn.metrics import confusion_matrix, ConfusionMatrixDisplay\n",
    "from sklearn.model_selection import KFold\n",
    "from sklearn.model_selection import cross_val_score\n",
    "import matplotlib.pyplot as plt\n",
    "import seaborn as sns\n",
    "from sklearn.datasets import load_breast_cancer\n",
    "\n",
    "# Cargar un conjunto de datos de ejemplo\n",
    "data = pd.read_csv('datos_ejemplo.csv')\n",
    "X = data.drop(columns=['Compró Producto (0/1)', 'ID'])\n",
    "y = data['Compró Producto (0/1)']\n",
    "\n",
    "X = pd.get_dummies(X, columns=['Género', 'Estado Civil'], drop_first=True)\n",
    "\n",
    "target_names = ['No compró el producto', 'Compró el producto']\n",
    "\n",
    "# Dividir los datos en entrenamiento y prueba\n",
    "X_train, X_test, y_train, y_test = train_test_split(X, y, test_size=0.2, random_state=42)\n"
   ]
  },
  {
   "cell_type": "markdown",
   "id": "37832066-6ac5-4325-9161-532acc6303d4",
   "metadata": {},
   "source": [
    "## Introducción a las Pruebas y Validación\n",
    "\n",
    "La validación y prueba de modelos son cruciales para verificar la eficacia y la seguridad antes de desplegar los modelos en producción. Esto incluye técnicas de validación cruzada y el uso de métricas de evaluación específicas para asegurar que los modelos funcionen bien en datos nuevos y desconocidos.\n"
   ]
  },
  {
   "cell_type": "markdown",
   "id": "a75f92dd-f756-42fa-addd-7d319b62c586",
   "metadata": {},
   "source": [
    "## Técnicas de Validación Cruzada\n",
    "\n",
    "La validación cruzada es una técnica para evaluar la generalización de los modelos estadísticos. Aquí veremos cómo implementar la validación cruzada de K-folds utilizando Scikit-learn.\n",
    "\n",
    "\n"
   ]
  },
  {
   "cell_type": "code",
   "execution_count": 2,
   "id": "9ca20de8-9fdb-41fb-a72e-0609eb40d319",
   "metadata": {},
   "outputs": [
    {
     "name": "stdout",
     "output_type": "stream",
     "text": [
      "Resultados de CV: [0.375 0.375 0.625 0.5   0.5  ]\n",
      "Promedio de CV: 0.47\n"
     ]
    }
   ],
   "source": [
    "# Implementación de K-Fold Cross Validation\n",
    "kf = KFold(n_splits=5, random_state=42, shuffle=True)\n",
    "model = RandomForestClassifier(n_estimators=100, random_state=42)\n",
    "cv_results = cross_val_score(model, X_train, y_train, cv=kf, scoring='accuracy')\n",
    "\n",
    "print(f\"Resultados de CV: {cv_results}\")\n",
    "print(f\"Promedio de CV: {cv_results.mean():.2f}\")"
   ]
  },
  {
   "cell_type": "markdown",
   "id": "d49d5ff1-d973-4456-a84f-8290530b248f",
   "metadata": {},
   "source": [
    "### Explicación de los Resultados de la Validación Cruzada\n",
    "\n",
    "La validación cruzada es una técnica esencial para evaluar la capacidad de generalización de un modelo de machine learning. Permite entender cómo un modelo se desempeñará en un conjunto de datos no visto, proporcionando una estimación más robusta del rendimiento del modelo.\n",
    "\n",
    "#### Resultados de la Validación Cruzada\n",
    "\n",
    "```plaintext\n",
    "Resultados de CV: [0.96703297 0.96703297 0.97802198 0.94505495 0.92307692]\n",
    "Promedio de CV: 0.96\n",
    "```\n",
    "\n",
    "#### Desglose de los Resultados\n",
    "\n",
    "1. **Interpretación de los Resultados de CV**:\n",
    "   - Estos valores representan las puntuaciones de precisión obtenidas en cada uno de los pliegues (folds) de la validación cruzada.\n",
    "   - La validación cruzada se realiza dividiendo el conjunto de datos en K partes (folds), entrenando el modelo en K-1 partes y validándolo en la parte restante, repitiendo este proceso K veces.\n",
    "\n",
    "   Los resultados específicos para cada pliegue son:\n",
    "   - **Primera iteración**: 0.96703297\n",
    "   - **Segunda iteración**: 0.96703297\n",
    "   - **Tercera iteración**: 0.97802198\n",
    "   - **Cuarta iteración**: 0.94505495\n",
    "   - **Quinta iteración**: 0.92307692\n",
    "\n",
    "2. **Promedio de CV**:\n",
    "   - El promedio de estas puntuaciones de precisión se calcula para obtener una medida general del rendimiento del modelo a lo largo de todas las particiones.\n",
    "   $$\n",
    "   \\text{Promedio de CV} = \\frac{0.96703297 + 0.96703297 + 0.97802198 + 0.94505495 + 0.92307692}{5} = 0.96\n",
    "   $$\n",
    "\n",
    "#### Análisis de los Resultados\n",
    "\n",
    "1. **Consistencia del Modelo**:\n",
    "   - Los valores de precisión en cada pliegue son bastante consistentes, todos ellos cercanos al rango de 0.92 a 0.97.\n",
    "   - Esta consistencia sugiere que el modelo es robusto y no está demasiado ajustado a una sola partición del conjunto de datos, lo que es una buena indicación de su capacidad de generalización.\n",
    "\n",
    "2. **Interpretación del Promedio de CV**:\n",
    "   - El promedio de 0.96 indica que, en promedio, el modelo tiene una precisión del 96% en predecir correctamente las clases de las instancias en el conjunto de validación.\n",
    "   - Un promedio alto de precisión significa que el modelo tiene un buen rendimiento general y es capaz de manejar la variabilidad en los datos.\n",
    "\n",
    "3. **Desempeño de los Pliegues Extremos**:\n",
    "   - El valor más bajo (0.92307692) y el valor más alto (0.97802198) indican las variaciones en el desempeño del modelo en diferentes particiones del conjunto de datos.\n",
    "   - Esta variabilidad puede deberse a la naturaleza del conjunto de datos y a cómo se distribuyen las instancias en cada pliegue. Es importante analizar por qué ciertos pliegues tienen un rendimiento menor o mayor, lo que puede dar información sobre posibles ajustes o mejoras necesarias.\n",
    "\n",
    "#### Conclusión\n",
    "La validación cruzada con un promedio de precisión de 0.96 y resultados consistentes en todos los pliegues muestra que el modelo es robusto y generaliza bien. Esta evaluación es crucial para confiar en el modelo antes de implementarlo en un entorno de producción. La validación cruzada ayuda a asegurarse de que el modelo no esté sobreajustado a un solo conjunto de datos y que mantendrá su rendimiento cuando se enfrente a datos no vistos."
   ]
  },
  {
   "cell_type": "markdown",
   "id": "3f9bbbe5-5d41-4415-82fe-b5b3deae776b",
   "metadata": {},
   "source": [
    "### Matriz de Confusión\n",
    "\n",
    "Una matriz de confusión proporciona una representación tabular del rendimiento de un algoritmo de clasificación, mostrando el número de instancias clasificadas correctamente e incorrectamente para cada clase. Vamos a interpretar la matriz de confusión proporcionada:\n"
   ]
  },
  {
   "cell_type": "code",
   "execution_count": 3,
   "id": "76cf7dc2-0243-4145-a9a3-2e9f69584640",
   "metadata": {},
   "outputs": [
    {
     "data": {
      "image/png": "[encoded data removed]",
      "text/plain": [
       "<Figure size 1000x700 with 2 Axes>"
      ]
     },
     "metadata": {},
     "output_type": "display_data"
    }
   ],
   "source": [
    "# Entrenar el modelo\n",
    "model = RandomForestClassifier(n_estimators=100, random_state=42)\n",
    "model.fit(X_train, y_train)\n",
    "\n",
    "# Realizar predicciones\n",
    "y_pred = model.predict(X_test)\n",
    "\n",
    "# Generar la matriz de confusión\n",
    "cm = confusion_matrix(y_test, y_pred)\n",
    "\n",
    "# Visualizar la matriz de confusión usando Matplotlib y Seaborn\n",
    "plt.figure(figsize=(10, 7))\n",
    "sns.heatmap(cm, annot=True, fmt='d', cmap='Blues', xticklabels=target_names, yticklabels=target_names)\n",
    "plt.xlabel('Predicted')\n",
    "plt.ylabel('Actual')\n",
    "plt.title('Confusion Matrix')\n",
    "plt.show()"
   ]
  },
  {
   "cell_type": "code",
   "execution_count": 4,
   "id": "9e5646ea-6c16-41a4-9110-8321d84b257f",
   "metadata": {},
   "outputs": [
    {
     "data": {
      "text/plain": [
       "array([[3, 0],\n",
       "       [6, 1]], dtype=int64)"
      ]
     },
     "execution_count": 4,
     "metadata": {},
     "output_type": "execute_result"
    }
   ],
   "source": [
    "cm"
   ]
  },
  {
   "cell_type": "markdown",
   "id": "e9569a4b-7def-4c3c-9ba9-f76e44c8ee47",
   "metadata": {},
   "source": [
    "### Interpretación de la Matriz de Confusión\n",
    "\n",
    " Vamos a interpretar la matriz de confusión proporcionada:\n",
    "\n",
    "```plaintext\n",
    "[[40,  3],\n",
    " [ 1, 70]]\n",
    "```\n",
    "\n",
    "#### Estructura de la Matriz de Confusión\n",
    "La matriz tiene la siguiente estructura:\n",
    "\n",
    "```\n",
    "              Predicted Class\n",
    "              |   0   |   1   |\n",
    "Actual Class  |-------|-------|\n",
    "      0       |  TP   |  FP   |\n",
    "              |-------|-------|\n",
    "      1       |  FN   |  TN   |\n",
    "```\n",
    "\n",
    "Donde:\n",
    "- **TP (True Positive)**: Número de instancias de la clase 0 correctamente predichas como clase 0.\n",
    "- **FP (False Positive)**: Número de instancias de la clase 1 incorrectamente predichas como clase 0.\n",
    "- **FN (False Negative)**: Número de instancias de la clase 0 incorrectamente predichas como clase 1.\n",
    "- **TN (True Negative)**: Número de instancias de la clase 1 correctamente predichas como clase 1.\n",
    "\n",
    "Para la matriz de confusión dada:\n",
    "\n",
    "```plaintext\n",
    "[[40,  3],\n",
    " [ 1, 70]]\n",
    "```\n",
    "\n",
    "#### Interpretación de los Resultados\n",
    "\n",
    "1. **True Positives (TP)**:\n",
    "   - **Valor**: 40\n",
    "   - **Interpretación**: El modelo predijo correctamente 40 instancias de la clase 0.\n",
    "\n",
    "2. **False Positives (FP)**:\n",
    "   - **Valor**: 3\n",
    "   - **Interpretación**: El modelo incorrectamente predijo 3 instancias de la clase 1 como clase 0. Estos son errores donde la clase negativa fue clasificada como positiva.\n",
    "\n",
    "3. **False Negatives (FN)**:\n",
    "   - **Valor**: 1\n",
    "   - **Interpretación**: El modelo incorrectamente predijo 1 instancia de la clase 0 como clase 1. Estos son errores donde la clase positiva fue clasificada como negativa.\n",
    "\n",
    "4. **True Negatives (TN)**:\n",
    "   - **Valor**: 70\n",
    "   - **Interpretación**: El modelo predijo correctamente 70 instancias de la clase 1.\n",
    "\n",
    "\n",
    "### Conclusión\n",
    "La matriz de confusión y sus métricas asociadas proporcionan una visión detallada del rendimiento del modelo. "
   ]
  }
 ],
 "metadata": {
  "kernelspec": {
   "display_name": "Python 3 (ipykernel)",
   "language": "python",
   "name": "python3"
  },
  "language_info": {
   "codemirror_mode": {
    "name": "ipython",
    "version": 3
   },
   "file_extension": ".py",
   "mimetype": "text/x-python",
   "name": "python",
   "nbconvert_exporter": "python",
   "pygments_lexer": "ipython3",
   "version": "3.10.13"
  }
 },
 "nbformat": 4,
 "nbformat_minor": 5
}
